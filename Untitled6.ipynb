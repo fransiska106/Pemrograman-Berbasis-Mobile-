{
  "nbformat": 4,
  "nbformat_minor": 0,
  "metadata": {
    "colab": {
      "provenance": [],
      "authorship_tag": "ABX9TyOvU5yOJXhtcfJr7KFhurnE",
      "include_colab_link": true
    },
    "kernelspec": {
      "name": "python3",
      "display_name": "Python 3"
    },
    "language_info": {
      "name": "python"
    }
  },
  "cells": [
    {
      "cell_type": "markdown",
      "metadata": {
        "id": "view-in-github",
        "colab_type": "text"
      },
      "source": [
        "<a href=\"https://colab.research.google.com/github/fransiska106/Pemrograman-Berbasis-Mobile-/blob/main/Untitled6.ipynb\" target=\"_parent\"><img src=\"https://colab.research.google.com/assets/colab-badge.svg\" alt=\"Open In Colab\"/></a>"
      ]
    },
    {
      "cell_type": "markdown",
      "source": [
        "# Fransiska Febriyanti Manehat_225410027"
      ],
      "metadata": {
        "id": "TrOdtOTOlpgQ"
      }
    },
    {
      "cell_type": "code",
      "execution_count": 1,
      "metadata": {
        "colab": {
          "base_uri": "https://localhost:8080/"
        },
        "id": "dVZdw68aj9gB",
        "outputId": "da2aa9ff-eb23-403b-c1f7-5ee6f74340be"
      },
      "outputs": [
        {
          "output_type": "stream",
          "name": "stdout",
          "text": [
            "Requirement already satisfied: pyspark in /usr/local/lib/python3.10/dist-packages (3.5.3)\n",
            "Requirement already satisfied: pandas in /usr/local/lib/python3.10/dist-packages (2.2.2)\n",
            "Requirement already satisfied: py4j==0.10.9.7 in /usr/local/lib/python3.10/dist-packages (from pyspark) (0.10.9.7)\n",
            "Requirement already satisfied: numpy>=1.22.4 in /usr/local/lib/python3.10/dist-packages (from pandas) (1.26.4)\n",
            "Requirement already satisfied: python-dateutil>=2.8.2 in /usr/local/lib/python3.10/dist-packages (from pandas) (2.8.2)\n",
            "Requirement already satisfied: pytz>=2020.1 in /usr/local/lib/python3.10/dist-packages (from pandas) (2024.2)\n",
            "Requirement already satisfied: tzdata>=2022.7 in /usr/local/lib/python3.10/dist-packages (from pandas) (2024.2)\n",
            "Requirement already satisfied: six>=1.5 in /usr/local/lib/python3.10/dist-packages (from python-dateutil>=2.8.2->pandas) (1.16.0)\n"
          ]
        }
      ],
      "source": [
        "!pip install pyspark pandas"
      ]
    },
    {
      "cell_type": "code",
      "source": [
        "from pyspark.sql import SparkSession"
      ],
      "metadata": {
        "id": "HZQQfznvkXsn"
      },
      "execution_count": 2,
      "outputs": []
    },
    {
      "cell_type": "code",
      "source": [
        "spark = SparkSession.builder.appName(\"ContohSpark\").getOrCreate()"
      ],
      "metadata": {
        "id": "K1wGqEY4kaoX"
      },
      "execution_count": 3,
      "outputs": []
    },
    {
      "cell_type": "code",
      "source": [
        "data = [\n",
        "    ('Andi', 30, 'L', 5000, 1),\n",
        "    ('Budi', 25, 'L', 4000, 2),\n",
        "    ('Citra', 28, 'P', 4500, 1)\n",
        "]\n",
        "\n",
        "columns = ['Nama', 'Usia', 'JenisKelamin', 'Gaji', 'DeptId']\n",
        "\n",
        "df = spark.createDataFrame(data, schema=columns)\n",
        "df.createOrReplaceTempView('karyawan')"
      ],
      "metadata": {
        "id": "22vCKccjkhkP"
      },
      "execution_count": 4,
      "outputs": []
    },
    {
      "cell_type": "code",
      "source": [
        "spark.sql('SELECT * FROM karyawan').show()"
      ],
      "metadata": {
        "colab": {
          "base_uri": "https://localhost:8080/"
        },
        "id": "cKrCpYtqknDB",
        "outputId": "510772ff-6072-4b0f-d13a-ccaa4d7ca795"
      },
      "execution_count": 5,
      "outputs": [
        {
          "output_type": "stream",
          "name": "stdout",
          "text": [
            "+-----+----+------------+----+------+\n",
            "| Nama|Usia|JenisKelamin|Gaji|DeptId|\n",
            "+-----+----+------------+----+------+\n",
            "| Andi|  30|           L|5000|     1|\n",
            "| Budi|  25|           L|4000|     2|\n",
            "|Citra|  28|           P|4500|     1|\n",
            "+-----+----+------------+----+------+\n",
            "\n"
          ]
        }
      ]
    },
    {
      "cell_type": "code",
      "source": [
        "spark.sql('SELECT Nama, Usia FROM karyawan WHERE Gaji > 4000').show()"
      ],
      "metadata": {
        "colab": {
          "base_uri": "https://localhost:8080/"
        },
        "id": "3gdOhRcMkyfP",
        "outputId": "8e0f9196-c697-43d4-b89f-17ffeea78535"
      },
      "execution_count": 6,
      "outputs": [
        {
          "output_type": "stream",
          "name": "stdout",
          "text": [
            "+-----+----+\n",
            "| Nama|Usia|\n",
            "+-----+----+\n",
            "| Andi|  30|\n",
            "|Citra|  28|\n",
            "+-----+----+\n",
            "\n"
          ]
        }
      ]
    },
    {
      "cell_type": "code",
      "source": [
        "spark.sql('SELECT AVG(Gaji) AS RataRataGaji FROM karyawan').show()"
      ],
      "metadata": {
        "colab": {
          "base_uri": "https://localhost:8080/"
        },
        "id": "P588gXeRk2og",
        "outputId": "988d5c5e-3a4d-46d5-ee24-59f5b589ca93"
      },
      "execution_count": 7,
      "outputs": [
        {
          "output_type": "stream",
          "name": "stdout",
          "text": [
            "+------------+\n",
            "|RataRataGaji|\n",
            "+------------+\n",
            "|      4500.0|\n",
            "+------------+\n",
            "\n"
          ]
        }
      ]
    },
    {
      "cell_type": "code",
      "source": [
        "spark.sql('''\n",
        "    SELECT JenisKelamin, SUM(Gaji) AS TotalGaji, Usia\n",
        "    FROM karyawan\n",
        "    GROUP BY JenisKelamin, Usia\n",
        "    ORDER BY Usia\n",
        "''').show()"
      ],
      "metadata": {
        "colab": {
          "base_uri": "https://localhost:8080/"
        },
        "id": "XbonbOemk9HQ",
        "outputId": "7afbb6a7-74d3-48a2-da80-2d06a6faaecf"
      },
      "execution_count": 8,
      "outputs": [
        {
          "output_type": "stream",
          "name": "stdout",
          "text": [
            "+------------+---------+----+\n",
            "|JenisKelamin|TotalGaji|Usia|\n",
            "+------------+---------+----+\n",
            "|           L|     4000|  25|\n",
            "|           P|     4500|  28|\n",
            "|           L|     5000|  30|\n",
            "+------------+---------+----+\n",
            "\n"
          ]
        }
      ]
    }
  ]
}